{
 "cells": [
  {
   "cell_type": "markdown",
   "metadata": {},
   "source": [
    "# Spatial Filtering"
   ]
  },
  {
   "cell_type": "code",
   "execution_count": null,
   "metadata": {},
   "outputs": [],
   "source": [
    "import cv2 as cv\n",
    "import numpy as np\n",
    "import pandas as pd\n",
    "import matplotlib as mp\n",
    "import seaborn as sns\n",
    "from PIL import Image\n",
    "from matplotlib import pyplot as plt\n",
    "from IPython.display import Image\n"
   ]
  },
  {
   "cell_type": "code",
   "execution_count": null,
   "metadata": {},
   "outputs": [],
   "source": [
    "# Load the image\n",
    "img = cv.imread(r'C:\\Users\\Ma548\\Desktop\\PythonHub\\Uni Projects\\DIP Project 1\\Photos\\noise_image.jpg', 0)\n",
    "img\n"
   ]
  },
  {
   "cell_type": "code",
   "execution_count": null,
   "metadata": {},
   "outputs": [],
   "source": [
    "# Obtain number of rows and columns\n",
    "# of the image\n",
    "m, n = img.shape\n",
    "\n",
    "# Develop Averaging filter(3, 3) mask\n",
    "mask = np.ones([3, 3], dtype=int)\n",
    "mask = mask / 9\n",
    "\n",
    "# Convolve the 3X3 mask over the image\n",
    "img_new = np.zeros([m, n])\n",
    "\n",
    "for i in range(1, m-1):\n",
    "    for j in range(1, n-1):\n",
    "        temp = img[i-1, j-1]*mask[0, 0]+img[i-1, j]*mask[0, 1]+img[i-1, j + 1]*mask[0, 2]+img[i, j-1]*mask[1, 0] + img[i, j] * \\\n",
    "            mask[1, 1]+img[i, j + 1]*mask[1, 2]+img[i + 1, j-1]*mask[2,\n",
    "                                                                     0]+img[i + 1, j]*mask[2, 1]+img[i + 1, j + 1]*mask[2, 2]\n",
    "\n",
    "        img_new[i, j] = temp\n",
    "\n",
    "img_new = img_new.astype(np.uint8)\n",
    "cv.imwrite('blurred.tif', img_new)\n",
    "\n",
    "plt.figure(figsize=(8, 8))\n",
    "plt.imshow(img, cmap='gray')\n",
    "plt.show()\n",
    "plt.figure(figsize=(8, 8))\n",
    "plt.imshow(img_new, cmap='gray')\n",
    "plt.show()\n"
   ]
  },
  {
   "cell_type": "code",
   "execution_count": null,
   "metadata": {},
   "outputs": [],
   "source": [
    "# Load the image\n",
    "img = cv.imread(r'C:\\Users\\Ma548\\Desktop\\PythonHub\\Uni Projects\\DIP Project 1\\Photos\\noise_image.jpg', 0)\n",
    "img\n"
   ]
  },
  {
   "cell_type": "code",
   "execution_count": null,
   "metadata": {},
   "outputs": [],
   "source": [
    "blur = cv.boxFilter(img,-1,(5,5), normalize = True)\n",
    "# show the image\n",
    "cv.imshow('before', img)\n",
    "\n",
    "cv.waitKey(0)\n",
    "cv.destroyAllWindows()\n",
    "\n",
    "cv.imshow('after', blur)\n",
    "\n",
    "cv.waitKey(0)\n",
    "cv.destroyAllWindows()\n"
   ]
  },
  {
   "cell_type": "markdown",
   "metadata": {},
   "source": [
    "## Median"
   ]
  },
  {
   "cell_type": "code",
   "execution_count": null,
   "metadata": {},
   "outputs": [],
   "source": [
    "# Load the image\n",
    "img = cv.imread(\n",
    "    r'C:\\Users\\Ma548\\Desktop\\PythonHub\\Uni Projects\\DIP Project 1\\Photos\\noise_image.jpg', 0)\n",
    "img\n"
   ]
  },
  {
   "cell_type": "code",
   "execution_count": null,
   "metadata": {},
   "outputs": [],
   "source": [
    "# Apply median filter\n",
    "median = cv.medianBlur(img, 3)\n",
    "\n",
    "# show the image\n",
    "cv.imshow('before', img)\n",
    "cv.imshow('after', median)\n",
    "\n",
    "cv.waitKey(0)\n",
    "cv.destroyAllWindows()\n"
   ]
  },
  {
   "cell_type": "markdown",
   "metadata": {},
   "source": [
    "## Unsharp Masking\n"
   ]
  },
  {
   "cell_type": "code",
   "execution_count": null,
   "metadata": {},
   "outputs": [],
   "source": [
    "# Load the image\n",
    "img = cv.imread(r'C:\\Users\\Ma548\\Desktop\\PythonHub\\Uni Projects\\DIP Project 1\\Photos\\test2.png', 0)\n",
    "img\n"
   ]
  },
  {
   "cell_type": "code",
   "execution_count": null,
   "metadata": {},
   "outputs": [],
   "source": [
    "\n",
    "\n",
    "# Blur the image\n",
    "gauss = cv.GaussianBlur(img, (7, 7), 0)\n",
    "\n",
    "plt.figure(figsize=(8, 8))\n",
    "plt.imshow(gauss, cmap='gray')\n",
    "plt.show()\n"
   ]
  },
  {
   "cell_type": "code",
   "execution_count": null,
   "metadata": {},
   "outputs": [],
   "source": [
    "# Apply Unsharp masking\n",
    "unsharp_image = cv.addWeighted(img, 2, gauss, -1, 0)\n",
    "\n",
    "\n",
    "\n",
    "plt.figure(figsize=(8, 8))\n",
    "plt.imshow(unsharp_image, cmap='gray')\n",
    "plt.show()\n"
   ]
  },
  {
   "cell_type": "markdown",
   "metadata": {},
   "source": [
    "## Second order derivative(Laplacian filter)\n"
   ]
  },
  {
   "cell_type": "code",
   "execution_count": null,
   "metadata": {},
   "outputs": [],
   "source": [
    "# Load the image\n",
    "img = cv.imread(r'C:\\Users\\Ma548\\Desktop\\PythonHub\\Uni Projects\\DIP Project 1\\Photos\\test2.png', 0)\n",
    "img"
   ]
  },
  {
   "cell_type": "code",
   "execution_count": null,
   "metadata": {},
   "outputs": [],
   "source": [
    "# Apply Gaussian Blur\n",
    "blur = cv.GaussianBlur(img, (3, 3), 0)\n",
    "\n",
    "# Apply Laplacian operator in some higher datatype\n",
    "laplacian = cv.Laplacian(blur, cv.CV_64F)\n",
    "\n",
    "# But this tends to localize the edge towards the brighter side.\n",
    "laplacian1 = laplacian/laplacian.max()\n",
    "\n",
    "plt.figure(figsize=(8, 8))\n",
    "plt.imshow(img, cmap = 'gray')\n",
    "plt.show()\n",
    "plt.figure(figsize=(8, 8))\n",
    "plt.imshow(laplacian, cmap='gray')\n",
    "plt.show()\n",
    "\n",
    "plt.figure(figsize=(8, 8))\n",
    "plt.imshow(laplacian1, cmap='gray')\n",
    "plt.show()\n"
   ]
  },
  {
   "attachments": {},
   "cell_type": "markdown",
   "metadata": {},
   "source": [
    "## Sobel Operater\n"
   ]
  },
  {
   "cell_type": "code",
   "execution_count": null,
   "metadata": {},
   "outputs": [],
   "source": [
    "# Load the image\n",
    "img = cv.imread(\n",
    "    r'C:\\Users\\Ma548\\Desktop\\PythonHub\\Uni Projects\\DIP Project 1\\Photos\\test2.png', 0)\n",
    "img\n"
   ]
  },
  {
   "cell_type": "code",
   "execution_count": null,
   "metadata": {},
   "outputs": [],
   "source": [
    "x = cv.Sobel(img, cv.CV_64F, 1, 0, ksize=3, scale=1)\n",
    "y = cv.Sobel(img, cv.CV_64F, 0, 1, ksize=3, scale=1)\n",
    "absx = cv.convertScaleAbs(x)\n",
    "absy = cv.convertScaleAbs(y)\n",
    "edge = cv.addWeighted(absx, 0.5, absy, 0.5, 0)\n",
    "cv.imshow('edge', edge)\n",
    "cv.waitKey(0)\n",
    "cv.destroyAllWindows()\n"
   ]
  },
  {
   "cell_type": "code",
   "execution_count": 7,
   "metadata": {},
   "outputs": [],
   "source": [
    "rows, cols = img.shape\n",
    "# Apply Gaussian Blur\n",
    "blur = cv.GaussianBlur(img, (3, 3), 0)\n",
    "\n",
    "sobel_horizontal = cv.Sobel(img, cv.CV_64F, 1, 0, ksize=5)\n",
    "sobel_vertical = cv.Sobel(img, cv.CV_64F, 0, 1, ksize=5)\n",
    "\n",
    "cv.imshow('Original', img)\n",
    "cv.imshow('Sobel horizontal', sobel_horizontal)\n",
    "cv.imshow('Sobel vertical', sobel_vertical)\n",
    "\n",
    "cv.waitKey(0)\n",
    "cv.destroyAllWindows()\n"
   ]
  },
  {
   "cell_type": "code",
   "execution_count": null,
   "metadata": {},
   "outputs": [],
   "source": []
  }
 ],
 "metadata": {
  "kernelspec": {
   "display_name": "Python 3.9.7 ('base')",
   "language": "python",
   "name": "python3"
  },
  "language_info": {
   "codemirror_mode": {
    "name": "ipython",
    "version": 3
   },
   "file_extension": ".py",
   "mimetype": "text/x-python",
   "name": "python",
   "nbconvert_exporter": "python",
   "pygments_lexer": "ipython3",
   "version": "3.9.7 (default, Sep 16 2021, 16:59:28) [MSC v.1916 64 bit (AMD64)]"
  },
  "orig_nbformat": 4,
  "vscode": {
   "interpreter": {
    "hash": "a59a791a1b00527992f2800473b4755a83dc2e73e6c5e70891a782c3fdf3bdae"
   }
  }
 },
 "nbformat": 4,
 "nbformat_minor": 2
}
